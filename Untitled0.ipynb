{
  "nbformat": 4,
  "nbformat_minor": 0,
  "metadata": {
    "colab": {
      "private_outputs": true,
      "provenance": [],
      "authorship_tag": "ABX9TyMoFouqENGro/buTTuGGEP2",
      "include_colab_link": true
    },
    "kernelspec": {
      "name": "python3",
      "display_name": "Python 3"
    },
    "language_info": {
      "name": "python"
    }
  },
  "cells": [
    {
      "cell_type": "markdown",
      "metadata": {
        "id": "view-in-github",
        "colab_type": "text"
      },
      "source": [
        "<a href=\"https://colab.research.google.com/github/vmeridat/prueba/blob/main/Untitled0.ipynb\" target=\"_parent\"><img src=\"https://colab.research.google.com/assets/colab-badge.svg\" alt=\"Open In Colab\"/></a>"
      ]
    },
    {
      "cell_type": "code",
      "execution_count": null,
      "metadata": {
        "id": "9IZd37mauPdw"
      },
      "outputs": [],
      "source": [
        "# Librerias\n",
        "desde el  controlador web de importación de selenio  \n",
        "de  selenio . controlador web apoyo _ interfaz de usuario  importar  WebDriverWait\n",
        "de  selenio . controlador web admite  importar  las condiciones_esperadas  como  EC\n",
        "de  selenio . controlador web común _ por  importación  Por\n",
        " tiempo de importación\n",
        "importar  pandas  como  pd\n",
        "\n",
        "# Opciones de navegación\n",
        "opciones  =   webdriver . ChromeOpciones ()\n",
        "opciones _ add_argument ( '--start-maximized' )\n",
        "opciones _ add_argument ( '--disable-extensions' )\n",
        "\n",
        "driver_path  =  'C: \\\\ Usuarios \\\\ rodgo \\\\ Descargas \\\\ chromedriver_win32 \\\\ chromedriver.exe'\n",
        "\n",
        "controlador  = controlador  web . Chrome ( drive_path , chrome_options = opciones )\n",
        "\n",
        "# Iniciarla en la pantalla 2\n",
        "conductor _ establecer_ventana_posición ( 2000 , 0 )\n",
        "conductor _ maximizar_ventana ()\n",
        "tiempo _ dormir ( 1 )\n",
        "\n",
        "# Inicializamos el navegador\n",
        "conductor _ obtener ( 'https://eltiempo.es' )\n",
        "\n",
        "WebDriverWait ( controlador , 5 )\\\n",
        "    . hasta ( EC . element_to_be_clickable (( Por . CSS_SELECTOR ,\n",
        "                                      'button.didomi-components-button didomi-button didomi-dismiss-button didomi-components-button--color didomi-button-highlight resaltar-botón' . reemplazar ( ' ' , '.' ))))\\\n",
        "    . hacer clic ()\n",
        "\n",
        "WebDriverWait ( controlador , 5 )\\\n",
        "    . hasta ( EC . element_to_be_clickable (( Por . CSS_SELECTOR ,\n",
        "                                      'entrada#búsqueda de entrada' )))\\\n",
        "    . send_keys ( 'Madrid' )\n",
        "\n",
        "WebDriverWait ( controlador , 5 )\\\n",
        "    . hasta ( EC . element_to_be_clickable (( Por . CSS_SELECTOR ,\n",
        "                                      'i.icon.icon-búsqueda' )))\\\n",
        "    . hacer clic ()\n",
        "\n",
        "WebDriverWait ( controlador , 5 )\\\n",
        "    . hasta ( EC . element_to_be_clickable (( Por . CSS_SELECTOR ,\n",
        "                                      'i.icon_weather_s.icon.icon-local' )))\\\n",
        "    . hacer clic ()\n",
        "\n",
        "WebDriverWait ( controlador , 5 )\\\n",
        "    . hasta ( EC . element_to_be_clickable (( By . XPATH ,\n",
        "                                      '/html/body/div[7]/main/div[4]/div/section[4]/section/div/article/section/ul/li[2]/a' )))\\\n",
        "    . hacer clic ()\n",
        "\n",
        "\n",
        "WebDriverWait ( controlador , 5 )\\\n",
        "    . hasta ( EC . element_to_be_clickable (( By . XPATH ,\n",
        "                                      '/html/body/div[7]/main/div[4]/div/section[4]/section/div[1]/ul' )))\n",
        "\n",
        "texto_columnas  =  controlador . find_element_by_xpath ( '/html/body/div[7]/main/div[4]/div/section[4]/section/div[1]/ul' )\n",
        "texto_columnas  =  texto_columnas . texto\n",
        "\n",
        "tiempo_hoy  =  texto_columnas . dividir ( 'Mañana' )[ 0 ]. división ( ' \\n ' )[ 1 : - 1 ]\n",
        "\n",
        "horas  =  lista ()\n",
        "temperatura  =  lista ()\n",
        "v_viento  =  lista ()\n",
        "\n",
        "para  i  en  rango ( 0 , len ( tiempo_hoy ), 4 ):\n",
        "    Horas . agregar ( tiempo_hoy [ i ])\n",
        "    temperatura _ agregar ( tiempo_hoy [ i + 1 ])\n",
        "    v_viento . agregar ( tiempo_hoy [ i + 2 ])\n",
        "\n",
        "df  =  pd . DataFrame ({ 'Horas' : horas , 'Temperatura' : temp , 'V_viento(km_h)' : v_viento })\n",
        "imprimir ( df )\n",
        "d.f. _ to_csv ( 'tiempo_hoy.csv' , indice = Falso )\n",
        "\n",
        "conductor _ salir ()"
      ]
    }
  ]
}