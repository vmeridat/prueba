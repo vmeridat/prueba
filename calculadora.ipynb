{
  "nbformat": 4,
  "nbformat_minor": 0,
  "metadata": {
    "colab": {
      "private_outputs": true,
      "provenance": [],
      "collapsed_sections": [],
      "include_colab_link": true
    },
    "kernelspec": {
      "name": "python3",
      "display_name": "Python 3"
    },
    "language_info": {
      "name": "python"
    }
  },
  "cells": [
    {
      "cell_type": "markdown",
      "metadata": {
        "id": "view-in-github",
        "colab_type": "text"
      },
      "source": [
        "<a href=\"https://colab.research.google.com/github/vmeridat/prueba/blob/main/calculadora.ipynb\" target=\"_parent\"><img src=\"https://colab.research.google.com/assets/colab-badge.svg\" alt=\"Open In Colab\"/></a>"
      ]
    },
    {
      "cell_type": "code",
      "metadata": {
        "id": "Aag1fSWk5Uzz"
      },
      "source": [
        "\n",
        "n1 = float(input(\"Introduce tu primer número: \") )\n",
        "n2 = float(input(\"Introduce tu segundo número: \") )\n",
        "\n",
        "opcion = 0\n",
        "while True:\n",
        "    print(\"\"\"\n",
        "    Dime, ¿qué quieres hacer?\n",
        "    \n",
        "    1) Sumar los dos números\n",
        "    2) Restar los dos números\n",
        "    3) Multiplicar los dos números\n",
        "    4) Cambiar los números elegidos\n",
        "    5) Apagar calculadora\n",
        "    \"\"\")\n",
        "    opcion = int(input(\"Elige una opción: \") )     \n",
        "\n",
        "    if opcion == 1:\n",
        "        print(\" \")\n",
        "        print(\"RESULTADO: La suma de\",n1,\"+\",n2,\"es igual a\",n1+n2)\n",
        "    elif opcion == 2:\n",
        "        print(\" \")\n",
        "        print(\"RESULTADO: La resta de\",n1,\"-\",n2,\"es igual a\",n1-n2)\n",
        "    elif opcion == 3:\n",
        "        print(\" \")\n",
        "        print(\"RESULTADO: El producto de\",n1,\"*\",n2,\"es igual a\",n1*n2)\n",
        "    elif opcion == 4:\n",
        "        n1 = float(input(\"Introduce tu primer número: \") )\n",
        "        n2 = float(input(\"Introduce tu segundo número: \") )\n",
        "    elif opcion == 5:\n",
        "        break\n",
        "    else:\n",
        "        print(\"Opción incorrecta\")"
      ],
      "execution_count": null,
      "outputs": []
    }
  ]
}