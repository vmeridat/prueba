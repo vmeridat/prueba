{
  "nbformat": 4,
  "nbformat_minor": 0,
  "metadata": {
    "colab": {
      "name": "Untitled9.ipynb",
      "private_outputs": true,
      "provenance": [],
      "collapsed_sections": [],
      "authorship_tag": "ABX9TyN39xMtyDlaCpPsrayExm2I",
      "include_colab_link": true
    },
    "kernelspec": {
      "name": "python3",
      "display_name": "Python 3"
    },
    "language_info": {
      "name": "python"
    },
    "gpuClass": "standard"
  },
  "cells": [
    {
      "cell_type": "markdown",
      "metadata": {
        "id": "view-in-github",
        "colab_type": "text"
      },
      "source": [
        "<a href=\"https://colab.research.google.com/github/vmeridat/prueba/blob/main/Untitled9.ipynb\" target=\"_parent\"><img src=\"https://colab.research.google.com/assets/colab-badge.svg\" alt=\"Open In Colab\"/></a>"
      ]
    },
    {
      "cell_type": "code",
      "execution_count": null,
      "metadata": {
        "id": "x8-acIRXlMOB"
      },
      "outputs": [],
      "source": [
        "a=7\n",
        "b=5\n",
        "ans=a*b\n",
        "print(\"Addition of {} and {} = {}.\".format(a, b, ans))  \n"
      ]
    },
    {
      "cell_type": "code",
      "source": [
        "a=7 \n",
        "b=5 \n",
        "ans=a+b \n",
        "print(\"Addition of {} and {} = {}.\".format(a, b, ans))   "
      ],
      "metadata": {
        "id": "5Z_Ftf7kl2kI"
      },
      "execution_count": null,
      "outputs": []
    },
    {
      "cell_type": "code",
      "source": [
        "edad=16;\n",
        "if edad >=15: \n",
        " print ('Hola Mundo');\n",
        "else:\n",
        "  print ('no puede entrar');"
      ],
      "metadata": {
        "id": "NmLL7KQ2tiKi"
      },
      "execution_count": null,
      "outputs": []
    },
    {
      "cell_type": "code",
      "source": [
        "print (\"Hola Mundo\");"
      ],
      "metadata": {
        "id": "aoF51ECNwI6c"
      },
      "execution_count": null,
      "outputs": []
    }
  ]
}